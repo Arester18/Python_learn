{
  "nbformat": 4,
  "nbformat_minor": 0,
  "metadata": {
    "colab": {
      "provenance": [],
      "include_colab_link": true
    },
    "kernelspec": {
      "name": "python3",
      "display_name": "Python 3"
    },
    "language_info": {
      "name": "python"
    }
  },
  "cells": [
    {
      "cell_type": "markdown",
      "metadata": {
        "id": "view-in-github",
        "colab_type": "text"
      },
      "source": [
        "<a href=\"https://colab.research.google.com/github/Arester18/Python_learn/blob/main/Python_avanzado.ipynb\" target=\"_parent\"><img src=\"https://colab.research.google.com/assets/colab-badge.svg\" alt=\"Open In Colab\"/></a>"
      ]
    },
    {
      "cell_type": "markdown",
      "source": [
        "# Python avanzado\n",
        "¿Qué es PyConAr?\n",
        "Asyncio: [Enlace](https://www.youtube.com/watch?v=BenwwgMx3Hg&t=472s)"
      ],
      "metadata": {
        "id": "G--OI9Fywu_u"
      }
    },
    {
      "cell_type": "code",
      "source": [
        "#GENERADORES\n",
        "def frutas():\n",
        "  print(\"Primera línea\")\n",
        "  yield 1\n",
        "  yield \"pera\"\n",
        "  print(\"en el medio\")\n",
        "  yield \"manzana\""
      ],
      "metadata": {
        "id": "HU0TwI-7wuZj"
      },
      "execution_count": null,
      "outputs": []
    },
    {
      "cell_type": "code",
      "source": [
        "g = frutas()\n",
        "next(g)\n"
      ],
      "metadata": {
        "colab": {
          "base_uri": "https://localhost:8080/"
        },
        "id": "9E3TlvOtxCPz",
        "outputId": "76b24ec5-5f92-42da-f127-83aca6160d5a"
      },
      "execution_count": null,
      "outputs": [
        {
          "output_type": "stream",
          "name": "stdout",
          "text": [
            "Primera línea\n"
          ]
        },
        {
          "output_type": "execute_result",
          "data": {
            "text/plain": [
              "1"
            ]
          },
          "metadata": {},
          "execution_count": 4
        }
      ]
    },
    {
      "cell_type": "code",
      "source": [
        "next(g)"
      ],
      "metadata": {
        "colab": {
          "base_uri": "https://localhost:8080/",
          "height": 35
        },
        "id": "aC_pTIZ8xNcH",
        "outputId": "29bb77e7-396d-4601-f8aa-525dd6b2798a"
      },
      "execution_count": null,
      "outputs": [
        {
          "output_type": "execute_result",
          "data": {
            "text/plain": [
              "'pera'"
            ],
            "application/vnd.google.colaboratory.intrinsic+json": {
              "type": "string"
            }
          },
          "metadata": {},
          "execution_count": 5
        }
      ]
    },
    {
      "cell_type": "code",
      "source": [
        "next(g)"
      ],
      "metadata": {
        "colab": {
          "base_uri": "https://localhost:8080/",
          "height": 52
        },
        "id": "LDuj4PMxxv0i",
        "outputId": "e0319aeb-58cb-4ac4-e193-d4e5f7da9097"
      },
      "execution_count": null,
      "outputs": [
        {
          "output_type": "stream",
          "name": "stdout",
          "text": [
            "en el medio\n"
          ]
        },
        {
          "output_type": "execute_result",
          "data": {
            "text/plain": [
              "'manzana'"
            ],
            "application/vnd.google.colaboratory.intrinsic+json": {
              "type": "string"
            }
          },
          "metadata": {},
          "execution_count": 6
        }
      ]
    },
    {
      "cell_type": "markdown",
      "source": [
        "concurrencia: haciendo dos cosas al mismo tiempo\n",
        "\n",
        "paralelismo:\n",
        "\n",
        "asincronismo: concurrencia colaborativa"
      ],
      "metadata": {
        "id": "L8elgqHKyXrx"
      }
    },
    {
      "cell_type": "code",
      "source": [
        "import time\n",
        "def loop(tareas):\n",
        "  num = 0\n",
        "  while tareas:\n",
        "    num +=1\n",
        "    print(num)\n",
        "    actual = tareas.pop(0)\n",
        "    print(actual)\n",
        "    print(\"arriba-----\")\n",
        "    try:\n",
        "      print(\"-\")\n",
        "      next(actual)\n",
        "      tareas.append(actual)\n",
        "    except StopIteration:\n",
        "      pass\n",
        "\n",
        "def estudiar():\n",
        "  print(\"leyendo\")\n",
        "  yield\n",
        "  print(\"armar resumen\")\n",
        "  yield\n",
        "  print(\"memorizar\")\n",
        "\n",
        "def facebook():\n",
        "  print(\"mirar fotos\")\n",
        "  print(\"mirar posts de vacaciones\")\n",
        "  print(\"criticar las fotos de las vacaciones por privado\")\n",
        "  yield\n",
        "  print(\"postear uff\")\n",
        "  time.sleep(10)\n",
        "  yield\n",
        "  print(\"chatear\")\n",
        "\n",
        "loop([estudiar(), facebook()])"
      ],
      "metadata": {
        "colab": {
          "base_uri": "https://localhost:8080/"
        },
        "id": "eNPLWg-I49Mh",
        "outputId": "a25d84d0-c1a5-4d34-a22b-d84ff63cf1cd"
      },
      "execution_count": null,
      "outputs": [
        {
          "output_type": "stream",
          "name": "stdout",
          "text": [
            "1\n",
            "<generator object estudiar at 0x7fb45f9e5230>\n",
            "arriba-----\n",
            "-\n",
            "leyendo\n",
            "2\n",
            "<generator object facebook at 0x7fb45f9e4040>\n",
            "arriba-----\n",
            "-\n",
            "mirar fotos\n",
            "mirar posts de vacaciones\n",
            "criticar las fotos de las vacaciones por privado\n",
            "3\n",
            "<generator object estudiar at 0x7fb45f9e5230>\n",
            "arriba-----\n",
            "-\n",
            "armar resumen\n",
            "4\n",
            "<generator object facebook at 0x7fb45f9e4040>\n",
            "arriba-----\n",
            "-\n",
            "postear uff\n",
            "5\n",
            "<generator object estudiar at 0x7fb45f9e5230>\n",
            "arriba-----\n",
            "-\n",
            "memorizar\n",
            "6\n",
            "<generator object facebook at 0x7fb45f9e4040>\n",
            "arriba-----\n",
            "-\n",
            "chatear\n"
          ]
        }
      ]
    },
    {
      "cell_type": "code",
      "source": [
        "def frutas():\n",
        "  yield 1\n",
        "  yield \"pera\"\n",
        "  yield \"manzana\"\n",
        "\n",
        "def cosas():\n",
        "  yield \"auto\"\n",
        "  yield \"espada\"\n",
        "  yield from frutas()\n",
        "  yield \"manuq\"\n",
        "\n",
        "list(frutas())\n",
        "\n",
        "list(cosas())"
      ],
      "metadata": {
        "colab": {
          "base_uri": "https://localhost:8080/"
        },
        "id": "SS-CEbB7-x5P",
        "outputId": "7ac61381-6185-4728-e723-e09b4c7caba5"
      },
      "execution_count": null,
      "outputs": [
        {
          "output_type": "execute_result",
          "data": {
            "text/plain": [
              "['auto', 'espada', 1, 'pera', 'manzana', 'manuq']"
            ]
          },
          "metadata": {},
          "execution_count": 8
        }
      ]
    },
    {
      "cell_type": "code",
      "source": [
        "import time\n",
        "def loop(tareas):\n",
        "  num = 0\n",
        "  while tareas:\n",
        "    num +=1\n",
        "    print(num)\n",
        "    actual = tareas.pop(0)\n",
        "    print(actual)\n",
        "    print(\"arriba-----\")\n",
        "    try:\n",
        "      print(\"-\")\n",
        "      next(actual)\n",
        "      tareas.append(actual)\n",
        "    except StopIteration:\n",
        "      pass\n",
        "\n",
        "def estudiar():\n",
        "  print(\"leyendo\")\n",
        "  yield\n",
        "  print(\"armar resumen\")\n",
        "  yield\n",
        "  print(\"memorizar\")\n",
        "\n",
        "def subir_foto():\n",
        "  print(\"subiendo parte 1\")\n",
        "  yield\n",
        "  print(\"subiendo parte 2\")\n",
        "  yield\n",
        "  print(\"subiendo parte 3\")\n",
        "\n",
        "def facebook():\n",
        "  print(\"mirar fotos\")\n",
        "  print(\"mirar posts de vacaciones\")\n",
        "  print(\"criticar las fotos de las vacaciones por privado\")\n",
        "  yield\n",
        "  print(\"postear uff\")\n",
        "  yield from subir_foto()\n",
        "  yield\n",
        "  print(\"chatear\")\n",
        "\n",
        "loop([estudiar(), facebook()])"
      ],
      "metadata": {
        "id": "VcOCobcoDm3E"
      },
      "execution_count": null,
      "outputs": []
    },
    {
      "cell_type": "code",
      "source": [
        "#Args y Kwargs\n",
        "def funcion(variable, *args, **kwargs):\n",
        "  print()\n",
        "#Iter y next\n",
        "lista = [1,2,3,4,5]\n",
        "iteracion = iter(lista)\n",
        "print(next(iteracion))\n",
        "print(next(iteracion))\n",
        "print(next(iteracion))\n",
        "#List, set and diccionarion comprehension\n",
        "vocales = \"abcde\"\n",
        "diccionario = {vocal.lower(): vocal.upper() for vocal in vocales}\n"
      ],
      "metadata": {
        "id": "zx22tycYFO6f",
        "colab": {
          "base_uri": "https://localhost:8080/"
        },
        "outputId": "e7fb6ba2-6c25-4aa2-9249-cd60ac02ddc3"
      },
      "execution_count": 29,
      "outputs": [
        {
          "output_type": "stream",
          "name": "stdout",
          "text": [
            "1\n",
            "2\n",
            "3\n"
          ]
        }
      ]
    },
    {
      "cell_type": "code",
      "source": [
        "def calcular_cuadrado(numero):\n",
        "  return numero**2\n",
        "lista_num = [2,3,4,5,6,7,8,9]\n",
        "lista_pares = []\n",
        "for num in lista_num:\n",
        "  #cuadrado = calcular_cuadrado(num)\n",
        "  if (cuadrado := calcular_cuadrado(num)) % 2==0:\n",
        "    lista_pares.append(cuadrado)\n",
        "    \"\"\"print(f\"El cuadrado de {num} es {cuadrado}, es un numero par\")\n",
        "  else:\n",
        "    print(f\"El cuadrado de {num} es {cuadrado}, es un numero impar\")\"\"\"\n",
        "\n",
        "print(lista_pares)\n",
        "\n",
        "pares_comprehension = [cuadrado for num in lista_num if (cuadrado := calcular_cuadrado(num))%2==0]\n",
        "print(pares_comprehension)"
      ],
      "metadata": {
        "id": "Wb1GixcwLgO5"
      },
      "execution_count": null,
      "outputs": []
    },
    {
      "cell_type": "code",
      "source": [
        "#Archivos CSV\n",
        "import csv\n",
        "import os\n",
        "\n",
        "ruta = \"csv_vacio.csv\"\n",
        "ruta_absoluta = \"C:....\"\n",
        "ruta_absoluta_os = os.path.jin(os.getcwd(), \"csv_vacio.csv\")\n",
        "\n",
        "\n",
        "columnas = [\"nombre\", \"apellido\", \"edad\"]\n",
        "dato = [\"Paco\", \"Botero\", 26]\n",
        "datos_lista = [\n",
        "    [\"Paco\", \"Botero\", 26],\n",
        "    [\"Javier\", \"Quiñonez\", 24],\n",
        "    [\"Emilio\", \"Tafur\", 25]\n",
        "]\n",
        "datos_dict = [\n",
        "    {\"nombre\": \"Paco\", \"apellido\": \"Botero\", \"edad\": 26},\n",
        "    {\"nombre\": \"Javier\", \"apellido\": \"Quiñonez\", \"edad\": 24},\n",
        "    {\"nombre\": \"Emilio\", \"apellido\": \"Tafur\", \"edad\": 25}\n",
        "]\n",
        "\n",
        "\n",
        "archivo_abierto = open(ruta, \"w\")\n",
        "writer = csv.writer(archivo_abierto, delimiter=\",\")\n",
        "archivo_abierto.close()\n",
        "with open(ruta, \"w\", newline = \"\") as archivo:\n",
        "  #Para añadir listas o matriz\n",
        "  writer = csv.writer(archivo, delimiter = \",\")\n",
        "  writer.writerow(columnas)\n",
        "  writer.writerows(datos_lista)\n",
        "\n",
        "  #Para añadir diccionarios\n",
        "  writer = csv.DictWriter(archivo, fieldnames = columnas)\n",
        "  writer.writeheader()\n",
        "  writer.writerows(datos_dict)\n"
      ],
      "metadata": {
        "id": "k2YpS4zMyUvn"
      },
      "execution_count": null,
      "outputs": []
    },
    {
      "cell_type": "code",
      "source": [
        "#Para leer un archivo CSV\n",
        "import csv\n",
        "\n",
        "with open(\"datos.csv\", \"r\", encoding = \"UTF-8\") as archivo:\n",
        "  reader = csv.reader(archivo)\n",
        "  columnas = next(reader)\n",
        "  print(\"Columnas: \", columnas)\n",
        "  for fila in reader:\n",
        "    print(fila[0])"
      ],
      "metadata": {
        "id": "NbEdsSED4Fz5"
      },
      "execution_count": null,
      "outputs": []
    }
  ]
}