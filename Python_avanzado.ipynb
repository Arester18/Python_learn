{
  "nbformat": 4,
  "nbformat_minor": 0,
  "metadata": {
    "colab": {
      "provenance": [],
      "include_colab_link": true
    },
    "kernelspec": {
      "name": "python3",
      "display_name": "Python 3"
    },
    "language_info": {
      "name": "python"
    }
  },
  "cells": [
    {
      "cell_type": "markdown",
      "metadata": {
        "id": "view-in-github",
        "colab_type": "text"
      },
      "source": [
        "<a href=\"https://colab.research.google.com/github/Arester18/Python_learn/blob/main/Python_avanzado.ipynb\" target=\"_parent\"><img src=\"https://colab.research.google.com/assets/colab-badge.svg\" alt=\"Open In Colab\"/></a>"
      ]
    },
    {
      "cell_type": "markdown",
      "source": [
        "# Python avanzado\n",
        "¿Qué es PyConAr?\n",
        "Asyncio: [Enlace](https://www.youtube.com/watch?v=BenwwgMx3Hg&t=472s)"
      ],
      "metadata": {
        "id": "G--OI9Fywu_u"
      }
    },
    {
      "cell_type": "code",
      "source": [
        "#GENERADORES\n",
        "def frutas():\n",
        "  print(\"Primera línea\")\n",
        "  yield 1\n",
        "  yield \"pera\"\n",
        "  print(\"en el medio\")\n",
        "  yield \"manzana\""
      ],
      "metadata": {
        "id": "HU0TwI-7wuZj"
      },
      "execution_count": null,
      "outputs": []
    },
    {
      "cell_type": "code",
      "source": [
        "g = frutas()\n",
        "next(g)\n"
      ],
      "metadata": {
        "colab": {
          "base_uri": "https://localhost:8080/"
        },
        "id": "9E3TlvOtxCPz",
        "outputId": "76b24ec5-5f92-42da-f127-83aca6160d5a"
      },
      "execution_count": null,
      "outputs": [
        {
          "output_type": "stream",
          "name": "stdout",
          "text": [
            "Primera línea\n"
          ]
        },
        {
          "output_type": "execute_result",
          "data": {
            "text/plain": [
              "1"
            ]
          },
          "metadata": {},
          "execution_count": 4
        }
      ]
    },
    {
      "cell_type": "code",
      "source": [
        "next(g)"
      ],
      "metadata": {
        "colab": {
          "base_uri": "https://localhost:8080/",
          "height": 35
        },
        "id": "aC_pTIZ8xNcH",
        "outputId": "29bb77e7-396d-4601-f8aa-525dd6b2798a"
      },
      "execution_count": null,
      "outputs": [
        {
          "output_type": "execute_result",
          "data": {
            "text/plain": [
              "'pera'"
            ],
            "application/vnd.google.colaboratory.intrinsic+json": {
              "type": "string"
            }
          },
          "metadata": {},
          "execution_count": 5
        }
      ]
    },
    {
      "cell_type": "code",
      "source": [
        "next(g)"
      ],
      "metadata": {
        "colab": {
          "base_uri": "https://localhost:8080/",
          "height": 52
        },
        "id": "LDuj4PMxxv0i",
        "outputId": "e0319aeb-58cb-4ac4-e193-d4e5f7da9097"
      },
      "execution_count": null,
      "outputs": [
        {
          "output_type": "stream",
          "name": "stdout",
          "text": [
            "en el medio\n"
          ]
        },
        {
          "output_type": "execute_result",
          "data": {
            "text/plain": [
              "'manzana'"
            ],
            "application/vnd.google.colaboratory.intrinsic+json": {
              "type": "string"
            }
          },
          "metadata": {},
          "execution_count": 6
        }
      ]
    },
    {
      "cell_type": "markdown",
      "source": [
        "concurrencia: haciendo dos cosas al mismo tiempo\n",
        "\n",
        "paralelismo:\n",
        "\n",
        "asincronismo: concurrencia colaborativa"
      ],
      "metadata": {
        "id": "L8elgqHKyXrx"
      }
    },
    {
      "cell_type": "code",
      "source": [
        "import time\n",
        "def loop(tareas):\n",
        "  num = 0\n",
        "  while tareas:\n",
        "    num +=1\n",
        "    print(num)\n",
        "    actual = tareas.pop(0)\n",
        "    print(actual)\n",
        "    print(\"arriba-----\")\n",
        "    try:\n",
        "      print(\"-\")\n",
        "      next(actual)\n",
        "      tareas.append(actual)\n",
        "    except StopIteration:\n",
        "      pass\n",
        "\n",
        "def estudiar():\n",
        "  print(\"leyendo\")\n",
        "  yield\n",
        "  print(\"armar resumen\")\n",
        "  yield\n",
        "  print(\"memorizar\")\n",
        "\n",
        "def facebook():\n",
        "  print(\"mirar fotos\")\n",
        "  print(\"mirar posts de vacaciones\")\n",
        "  print(\"criticar las fotos de las vacaciones por privado\")\n",
        "  yield\n",
        "  print(\"postear uff\")\n",
        "  time.sleep(10)\n",
        "  yield\n",
        "  print(\"chatear\")\n",
        "\n",
        "loop([estudiar(), facebook()])"
      ],
      "metadata": {
        "colab": {
          "base_uri": "https://localhost:8080/"
        },
        "id": "eNPLWg-I49Mh",
        "outputId": "a25d84d0-c1a5-4d34-a22b-d84ff63cf1cd"
      },
      "execution_count": null,
      "outputs": [
        {
          "output_type": "stream",
          "name": "stdout",
          "text": [
            "1\n",
            "<generator object estudiar at 0x7fb45f9e5230>\n",
            "arriba-----\n",
            "-\n",
            "leyendo\n",
            "2\n",
            "<generator object facebook at 0x7fb45f9e4040>\n",
            "arriba-----\n",
            "-\n",
            "mirar fotos\n",
            "mirar posts de vacaciones\n",
            "criticar las fotos de las vacaciones por privado\n",
            "3\n",
            "<generator object estudiar at 0x7fb45f9e5230>\n",
            "arriba-----\n",
            "-\n",
            "armar resumen\n",
            "4\n",
            "<generator object facebook at 0x7fb45f9e4040>\n",
            "arriba-----\n",
            "-\n",
            "postear uff\n",
            "5\n",
            "<generator object estudiar at 0x7fb45f9e5230>\n",
            "arriba-----\n",
            "-\n",
            "memorizar\n",
            "6\n",
            "<generator object facebook at 0x7fb45f9e4040>\n",
            "arriba-----\n",
            "-\n",
            "chatear\n"
          ]
        }
      ]
    },
    {
      "cell_type": "code",
      "source": [
        "def frutas():\n",
        "  yield 1\n",
        "  yield \"pera\"\n",
        "  yield \"manzana\"\n",
        "\n",
        "def cosas():\n",
        "  yield \"auto\"\n",
        "  yield \"espada\"\n",
        "  yield from frutas()\n",
        "  yield \"manuq\"\n",
        "\n",
        "list(frutas())\n",
        "\n",
        "list(cosas())"
      ],
      "metadata": {
        "colab": {
          "base_uri": "https://localhost:8080/"
        },
        "id": "SS-CEbB7-x5P",
        "outputId": "7ac61381-6185-4728-e723-e09b4c7caba5"
      },
      "execution_count": null,
      "outputs": [
        {
          "output_type": "execute_result",
          "data": {
            "text/plain": [
              "['auto', 'espada', 1, 'pera', 'manzana', 'manuq']"
            ]
          },
          "metadata": {},
          "execution_count": 8
        }
      ]
    },
    {
      "cell_type": "code",
      "source": [
        "import time\n",
        "def loop(tareas):\n",
        "  num = 0\n",
        "  while tareas:\n",
        "    num +=1\n",
        "    print(num)\n",
        "    actual = tareas.pop(0)\n",
        "    print(actual)\n",
        "    print(\"arriba-----\")\n",
        "    try:\n",
        "      print(\"-\")\n",
        "      next(actual)\n",
        "      tareas.append(actual)\n",
        "    except StopIteration:\n",
        "      pass\n",
        "\n",
        "def estudiar():\n",
        "  print(\"leyendo\")\n",
        "  yield\n",
        "  print(\"armar resumen\")\n",
        "  yield\n",
        "  print(\"memorizar\")\n",
        "\n",
        "def subir_foto():\n",
        "  print(\"subiendo parte 1\")\n",
        "  yield\n",
        "  print(\"subiendo parte 2\")\n",
        "  yield\n",
        "  print(\"subiendo parte 3\")\n",
        "\n",
        "def facebook():\n",
        "  print(\"mirar fotos\")\n",
        "  print(\"mirar posts de vacaciones\")\n",
        "  print(\"criticar las fotos de las vacaciones por privado\")\n",
        "  yield\n",
        "  print(\"postear uff\")\n",
        "  yield from subir_foto()\n",
        "  yield\n",
        "  print(\"chatear\")\n",
        "\n",
        "loop([estudiar(), facebook()])"
      ],
      "metadata": {
        "id": "VcOCobcoDm3E"
      },
      "execution_count": null,
      "outputs": []
    },
    {
      "cell_type": "code",
      "source": [
        "#Args y Kwargs\n",
        "def funcion(variable, *args, **kwargs):\n",
        "  print()\n",
        "#Iter y next\n",
        "lista = [1,2,3,4,5]\n",
        "iteracion = iter(lista)\n",
        "print(next(iteracion))\n",
        "print(next(iteracion))\n",
        "print(next(iteracion))\n",
        "#List, set and diccionarion comprehension\n",
        "vocales = \"abcde\"\n",
        "diccionario = {vocal.lower(): vocal.upper() for vocal in vocales}\n"
      ],
      "metadata": {
        "id": "zx22tycYFO6f",
        "colab": {
          "base_uri": "https://localhost:8080/"
        },
        "outputId": "e7fb6ba2-6c25-4aa2-9249-cd60ac02ddc3"
      },
      "execution_count": null,
      "outputs": [
        {
          "output_type": "stream",
          "name": "stdout",
          "text": [
            "1\n",
            "2\n",
            "3\n"
          ]
        }
      ]
    },
    {
      "cell_type": "code",
      "source": [
        "def calcular_cuadrado(numero):\n",
        "  return numero**2\n",
        "lista_num = [2,3,4,5,6,7,8,9]\n",
        "lista_pares = []\n",
        "for num in lista_num:\n",
        "  #cuadrado = calcular_cuadrado(num)\n",
        "  if (cuadrado := calcular_cuadrado(num)) % 2==0:\n",
        "    lista_pares.append(cuadrado)\n",
        "    \"\"\"print(f\"El cuadrado de {num} es {cuadrado}, es un numero par\")\n",
        "  else:\n",
        "    print(f\"El cuadrado de {num} es {cuadrado}, es un numero impar\")\"\"\"\n",
        "\n",
        "print(lista_pares)\n",
        "\n",
        "pares_comprehension = [cuadrado for num in lista_num if (cuadrado := calcular_cuadrado(num))%2==0]\n",
        "print(pares_comprehension)"
      ],
      "metadata": {
        "id": "Wb1GixcwLgO5"
      },
      "execution_count": null,
      "outputs": []
    },
    {
      "cell_type": "code",
      "source": [
        "#Archivos CSV\n",
        "import csv\n",
        "import os\n",
        "\n",
        "ruta = \"csv_vacio.csv\"\n",
        "ruta_absoluta = \"C:....\"\n",
        "ruta_absoluta_os = os.path.jin(os.getcwd(), \"csv_vacio.csv\")\n",
        "\n",
        "\n",
        "columnas = [\"nombre\", \"apellido\", \"edad\"]\n",
        "dato = [\"Paco\", \"Botero\", 26]\n",
        "datos_lista = [\n",
        "    [\"Paco\", \"Botero\", 26],\n",
        "    [\"Javier\", \"Quiñonez\", 24],\n",
        "    [\"Emilio\", \"Tafur\", 25]\n",
        "]\n",
        "datos_dict = [\n",
        "    {\"nombre\": \"Paco\", \"apellido\": \"Botero\", \"edad\": 26},\n",
        "    {\"nombre\": \"Javier\", \"apellido\": \"Quiñonez\", \"edad\": 24},\n",
        "    {\"nombre\": \"Emilio\", \"apellido\": \"Tafur\", \"edad\": 25}\n",
        "]\n",
        "\n",
        "\n",
        "archivo_abierto = open(ruta, \"w\")\n",
        "writer = csv.writer(archivo_abierto, delimiter=\",\")\n",
        "archivo_abierto.close()\n",
        "with open(ruta, \"w\", newline = \"\") as archivo:\n",
        "  #Para añadir listas o matriz\n",
        "  writer = csv.writer(archivo, delimiter = \",\")\n",
        "  writer.writerow(columnas)\n",
        "  writer.writerows(datos_lista)\n",
        "\n",
        "  #Para añadir diccionarios\n",
        "  writer = csv.DictWriter(archivo, fieldnames = columnas)\n",
        "  writer.writeheader()\n",
        "  writer.writerows(datos_dict)\n"
      ],
      "metadata": {
        "id": "k2YpS4zMyUvn"
      },
      "execution_count": null,
      "outputs": []
    },
    {
      "cell_type": "code",
      "source": [
        "#Para leer un archivo CSV\n",
        "import csv\n",
        "\n",
        "with open(\"datos.csv\", \"r\", encoding = \"UTF-8\") as archivo:\n",
        "  reader = csv.reader(archivo)\n",
        "  columnas = next(reader)\n",
        "  print(\"Columnas: \", columnas)\n",
        "  for fila in reader:\n",
        "    print(fila[0])"
      ],
      "metadata": {
        "id": "NbEdsSED4Fz5"
      },
      "execution_count": null,
      "outputs": []
    },
    {
      "cell_type": "code",
      "source": [
        "#LOGGING\n",
        "logging: proceso para obtener log del programa\n",
        "log: nos ayudan a entender el comportamiento del programa\n",
        "Estos nos ayudan a indicar si los registros que estamos obteniendo\n",
        "son informativos, de desarrolla, advertencias y errores\n",
        "5 niveles de seguridad:\n",
        " + DEBUG: información detallada, se pone en partes que se debe revisar\n",
        " + INFO: reporte de eventos de los cuales se requiere información\n",
        " + WARNING: Reporte de algo inesperado, que ha sucedido o sucederá\n",
        "          en el código. Este no genera un error\n",
        " + ERROR: Reporte de algo que no se puede ejecutar\n",
        " + CRITICAL: Reporte de un error grave. El programa se detendrá"
      ],
      "metadata": {
        "id": "AgRw1dyaN9oE"
      },
      "execution_count": null,
      "outputs": []
    },
    {
      "cell_type": "code",
      "source": [
        "import logging\n",
        "\n",
        "logging.basicConfig(level = logging.DEBUG, filename = \"ejemplo_logs.log\",\n",
        "                    filemode = \"w\")\n",
        "\n",
        "#filemode: se usa para determinar si en el archivo se sobreescriben o no\n",
        "          los errorres\n",
        "\n",
        "\n",
        "logging.debug(\"Log de debugging\")\n",
        "logging.info(\"Log informativo\")\n",
        "logging.warning(\"Log de advertencia\")\n",
        "logging.error(\"Log de error\")\n",
        "logging.critical(\"Log de error critico\")\n",
        "\n",
        "#Impresión:\n",
        "#Nivel  //Logger  //Mensaje\n",
        "#WARNING:root:Log de advertencia\n",
        "\n",
        "#logger: permite configurar los log\n",
        "\n",
        "#Estos log tambien se usan para guardar en un archivo para hacer\n",
        "#seguimiento de errores. Estos archivos tienen la extensión .log"
      ],
      "metadata": {
        "id": "ihrRxqfQPmhp"
      },
      "execution_count": null,
      "outputs": []
    },
    {
      "cell_type": "code",
      "source": [
        "import logging\n",
        "\n",
        "logging.basicConfig(\n",
        "    level = logging.DEBUG,\n",
        "    #format = \"%(levelname)s - %(message)s\"\n",
        "    format = \"%(asctime)s - %(levelname)s - %(message)s\",\n",
        "    datefmt = \"%H:%M:%S\"\n",
        ")\n",
        "\n",
        "logging.warning(\"Log de advertencia\")\n",
        "logging.error(\"Log de error\")\n",
        "logging.critical(\"Log de error critico\")\n",
        "\n",
        "try:\n",
        "  division = 2/0\n",
        "except:\n",
        "  #logging.error(\"Division por cero\")\n",
        "  logging.exception(\"Division por cero\")"
      ],
      "metadata": {
        "id": "qbTT9s-GS9xX"
      },
      "execution_count": null,
      "outputs": []
    },
    {
      "cell_type": "code",
      "source": [
        "import logging\n",
        "\n",
        "logger = logging.getLogger(__name__) #adquiere el nombre del\n",
        "                            #modulo o archivo con el que se trabaja\n",
        "print(logger)\n",
        "logger.warning(\"Log de advertencia\")\n",
        "\n",
        "#impresión -> Log de advertencia\n",
        "\n",
        "\n",
        "\n",
        "#En otro archivo\n",
        "import logger_personalizado\n"
      ],
      "metadata": {
        "id": "VxPcLUGjWPJq"
      },
      "execution_count": null,
      "outputs": []
    },
    {
      "cell_type": "code",
      "source": [
        "#log_handlers.py\n",
        "#Controlador de log o de registros\n",
        "#configura y personaliza los logger\n",
        "import logging\n",
        "\n",
        "logger = logging.getLogger(__name__)\n",
        "#Cada tipo de handler permite enviar los\n",
        "#registros de diferente manera\n",
        "#StringHandler: Para consola\n",
        "#Filehandler:   Para archivos\n",
        "#mstphandler:   Envia log através de email\n",
        "\n",
        "#LOGHANDER: Se compone de dos elementos\n",
        "  #conformado por un formato\n",
        "  #nivel minimo que indica la severidad del log\n",
        "  #los lohandler mas comunes: stringhandler y filehandler"
      ],
      "metadata": {
        "id": "K0TPk-DyY0Po"
      },
      "execution_count": null,
      "outputs": []
    },
    {
      "cell_type": "code",
      "source": [
        "import logging\n",
        "\n",
        "logger = logging.getLogger(__name__)\n",
        "#cuando usamos handler ya no podemos usar\n",
        "#la función basic config\n",
        "logger.setLevel(logging.DEBUG)\n",
        "\n",
        "#Para crear nuestro controlador para la consola\n",
        "#usamos la clase tringhandler de la libreria logging\n",
        "\n",
        "handler_consola = logging.StreamHandler()\n",
        "formato_logs = logging.Formatter(\"%(asctime)s - %(name)s - %(levelname)s - %(message)s\")\n",
        "#Para añadir el formato creado a nuestro controlador\n",
        "#usamos la función serFotmatter\n",
        "handler_consola.setFormatter(formato_logs)\n",
        "#Definimos el logger al cual pertenece el controlador\n",
        "#que creamos\n",
        "logger.addHandler(handler_consola)\n",
        "\n",
        "handler_archivo = logging.FileHandler(\"archivo.csv\")\n",
        "handler_archivo.setLevel(logging.ERROR)\n",
        "handler_archivo.setFormatter(formato_logs)\n",
        "logger.addHandler(handler_Archivo)\n",
        "\n",
        "logger.info(\"Registro informativo\")\n"
      ],
      "metadata": {
        "id": "43yshe0QamJF"
      },
      "execution_count": null,
      "outputs": []
    },
    {
      "cell_type": "markdown",
      "source": [
        "# JSON\n",
        "\n",
        "JSON: JavaScript Object Notation\n",
        "\n",
        "Permite el intercambio de datos entre servicios y aplicaciones. Aquí hay: texto, numeros, booleanos, nulos, arreglos o listas y objetos"
      ],
      "metadata": {
        "id": "mAg-IySB19uu"
      }
    },
    {
      "cell_type": "code",
      "source": [
        "{\n",
        "    \"llave_string\": \"hola\",\n",
        "    \"numero\": 23,\n",
        "    \"bool\": True,\n",
        "    \"null\": null,\n",
        "    \"lista\": [1,2,3],\n",
        "    \"objeto\":{\n",
        "        \"nombre\": \"ana\"\n",
        "    }\n",
        "    \"personas\": [\n",
        "        {\n",
        "\n",
        "            \"nombre\": \"pedro\"\n",
        "        },{\n",
        "            \"nombre\": \"paco\"\n",
        "        }\n",
        "    ]\n",
        "}\n",
        "#Se puede definir el json como un arreglo de elementos\n",
        "#Las llaves no se pueden repetir en un arreglo"
      ],
      "metadata": {
        "id": "OhF_liOh18f8"
      },
      "execution_count": null,
      "outputs": []
    },
    {
      "cell_type": "code",
      "source": [
        "#SERIALIZAR Y DESERIALIZAR\n",
        "Serializar: transformas datos en bytes para ser enviados.\n",
        "            Esto lo hacemos con la librería json.dumps()\n",
        "decodificar: transformar los datos del json al ser recibidos.\n",
        "            Eso lo hacemos con json.loads()\n",
        "\n",
        "Python          ||     Json\n",
        "diccionario           objeto\n",
        "lista, tupla          array\n",
        "cadena de texto       string\n",
        "entero, decimal       number\n",
        "True, False           true/false\n",
        "None                  null"
      ],
      "metadata": {
        "id": "AgSDhPaW4P2N"
      },
      "execution_count": null,
      "outputs": []
    },
    {
      "cell_type": "code",
      "source": [
        "#SERIALIZAR\n",
        "import json\n",
        "persona = {\n",
        "    \"nombre\": \"Javier\",\n",
        "    \"apellido\": \"Quiñonez\",\n",
        "    \"edad\": 24\n",
        "}\n",
        "\n",
        "objeto_json = json.dumps(persona, indent = 2) #serializamos\n",
        "with open(\"persona.json\", \"w\") as archivo_json:\n",
        "  archivo_json.write(objeto_json)\n",
        "\n",
        "\n",
        "with open(\"persona.json\", \"w\") as archivo_json:\n",
        "  json.dump(persona, archivo_json)"
      ],
      "metadata": {
        "id": "cyjDxKIo78YN"
      },
      "execution_count": null,
      "outputs": []
    },
    {
      "cell_type": "code",
      "source": [
        "#DESEREALIZAR\n",
        "import json\n",
        "\n",
        "with open(\"persona.json\", \"r\") as archivo_json:\n",
        "  datos_json = json.load(archivo_json)\n",
        "\n",
        "print(type(datos_json))\n",
        "print(datos_json)"
      ],
      "metadata": {
        "id": "t5Gc8Smd9nUm"
      },
      "execution_count": null,
      "outputs": []
    },
    {
      "cell_type": "markdown",
      "source": [
        "#JSON"
      ],
      "metadata": {
        "id": "C8tRcdvXDORb"
      }
    },
    {
      "cell_type": "code",
      "source": [
        "Protocolo de transferencia de datos. Permite la comunicación entre\n",
        "servicios\n",
        "\n",
        "Características:\n",
        "+ Simple\n",
        "+ Extensible\n",
        "+ No guarda estados: no se guardan los datos entre dos o más peticiones\n",
        "+ Guarda sesiones: permite almacenar datos respecto a una sesión iniciada\n",
        "\n",
        "Las peticiones están compuestas de 3 elementos:\n",
        "+ Línea de inicio: donde se define el tipo de petición\n",
        "            que se va a hacer. Esta se compone de método o acción, un objetivo\n",
        "            que corresponde a la URL a la cuál se hará la petición y una versión\n",
        "            que indica la estructura de la petición\n",
        "+ Cabecera o headers: metadatos que se envían para proveer información sobre\n",
        "            la petición\n",
        "+ Cuerpo:   Contiene datos que serán enviados a través de la petición, si esta\n",
        "            implica un cambio en el servidor\n",
        "\n",
        "Las respuestas HTTP tambien tienen 3 elementos\n",
        "+ Línea de estado: contiene el protocolo HTTP usado, el código de estado\n",
        "            (indica si la petición falló o fue exitosa), texto de estado (corta descripción)\n",
        "+ Cabecera o headers: metadatos que se envían para proveer información sobre la\n",
        "            petición\n",
        "+ Cuerpo: contiene información solicitada por la petición\n",
        "\n",
        "Los métodos HTTP indica las acciones que se pueden realizar sobre el servicio\n",
        "con el cual se hace la conexión. Entre los más conocidos están:\n",
        "+ GET: permite la entrega de datos desde el servidor hacie el cliente\n",
        "+ POST: permite el guardado de datos desde el cliente hacie el servidor\n",
        "+ PUT: permite modificar datos desde el cliente hacia el servidor\n",
        "+ DELETE: permite borrar datos en el servidor\n",
        "\n",
        "Cuando hacemos una petición HTTP, esta nos da una respuesta que tiene un\n",
        "código de estado"
      ],
      "metadata": {
        "id": "cBZmjhDmDNUM"
      },
      "execution_count": null,
      "outputs": []
    }
  ]
}