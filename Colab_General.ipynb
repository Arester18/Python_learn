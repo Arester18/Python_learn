{
  "nbformat": 4,
  "nbformat_minor": 0,
  "metadata": {
    "colab": {
      "provenance": [],
      "include_colab_link": true
    },
    "kernelspec": {
      "name": "python3",
      "display_name": "Python 3"
    },
    "language_info": {
      "name": "python"
    }
  },
  "cells": [
    {
      "cell_type": "markdown",
      "metadata": {
        "id": "view-in-github",
        "colab_type": "text"
      },
      "source": [
        "<a href=\"https://colab.research.google.com/github/Arester18/Python_learn/blob/main/Colab_General.ipynb\" target=\"_parent\"><img src=\"https://colab.research.google.com/assets/colab-badge.svg\" alt=\"Open In Colab\"/></a>"
      ]
    },
    {
      "cell_type": "markdown",
      "source": [
        "#¿Qué es Python?\n",
        "\n",
        "[Enlace](https://colab.research.google.com/github/Arester18/Python_learn/blob/main/Python_b%C3%A1sico.ipynb)"
      ],
      "metadata": {
        "id": "bZaGmaB4-vXq"
      }
    },
    {
      "cell_type": "markdown",
      "source": [
        "# Aprendizaje Python"
      ],
      "metadata": {
        "id": "LCYd3-mGwMfc"
      }
    },
    {
      "cell_type": "markdown",
      "source": [
        "### Python básico\n",
        "[Enlace](https://colab.research.google.com/github/Arester18/Python_learn/blob/main/Python_b%C3%A1sico.ipynb)"
      ],
      "metadata": {
        "id": "FExeT7Xe4YpY"
      }
    },
    {
      "cell_type": "code",
      "source": [
        "Sintaxis básica: variables, tipos de datos, operadores, estructuras de control (condicionales y bucles).\n",
        "Funciones y estructuras de datos: listas, tuplas, diccionarios y conjuntos.\n",
        "Entrada y salida de datos: lectura y escritura de archivos, entrada del usuario.\n",
        "Manejo de errores y excepciones.\n",
        "Módulos y bibliotecas estándar: uso de módulos predefinidos y cómo importarlos.\n",
        "Programación orientada a objetos: clases, objetos, métodos y atributos.\n",
        "Manipulación de cadenas de texto.\n",
        "Manipulación de fechas y horas básicas."
      ],
      "metadata": {
        "id": "rS2bqxkv4QD5"
      },
      "execution_count": null,
      "outputs": []
    },
    {
      "cell_type": "markdown",
      "source": [
        "### Python intermedio\n",
        "[Enlace](https://colab.research.google.com/github/Arester18/Python_learn/blob/main/Python_intermedio.ipynb)"
      ],
      "metadata": {
        "id": "M_gAAiwe4eCK"
      }
    },
    {
      "cell_type": "code",
      "source": [
        "Programación orientada a objetos avanzada: herencia, polimorfismo, encapsulación.\n",
        "Manejo de archivos y directorios: manipulación avanzada de archivos y directorios.\n",
        "Uso de bibliotecas externas: instalación y uso de paquetes de terceros con herramientas como pip\n",
        "Manipulación de datos: procesamiento de archivos CSV, JSON, XML, acceso a bases de datos.\n",
        "Excepciones avanzadas y manejo de errores.\n",
        "Generadores y programación funcional.\n",
        "Expresiones regulares\n",
        "Testing y depuración de código."
      ],
      "metadata": {
        "id": "h2whJG82wRJY"
      },
      "execution_count": null,
      "outputs": []
    },
    {
      "cell_type": "markdown",
      "source": [
        "### Python avanzado\n",
        "[Enlace](https://colab.research.google.com/github/Arester18/Python_learn/blob/main/Python_avanzado.ipynb)"
      ],
      "metadata": {
        "id": "7fkVAMfb4pAg"
      }
    },
    {
      "cell_type": "code",
      "source": [
        "Progrmación concurrente y paralela: hilos, procesos, concurrencia.\n",
        "Desarrollo web con Python: frameworks web como Django o Flask.\n",
        "Desarrollo de aplicaciones de escritorio: uso de bibliotecas como Tkinter, PyQt o wxPython.\n",
        "Ciencia de datos y análisis: bibliotecas populares como NumPy, Pandas, Matplotlib y Scikit-learn.\n",
        "Programación de redes: comunicación a través de sockets, protocolos como HTTP, SMTP, FTP.\n",
        "Programación de interfaces de usuario avanzadas.\n",
        "Seguridad y criptografía\n",
        "Desarrollo de juegos"
      ],
      "metadata": {
        "id": "QxdmBG9n4xOS"
      },
      "execution_count": null,
      "outputs": []
    },
    {
      "cell_type": "markdown",
      "source": [
        "# Proyectos\n",
        "Node Drone: [Enlace](https://colab.research.google.com/github/Arester18/Python_learn/blob/main/NodeDrone_Datos.ipynb)\n",
        "\n",
        "Web Scrapping: [Enlace](https://colab.research.google.com/github/Arester18/Python_learn/blob/main/Web_Scrapping.ipynb)\n",
        "\n",
        "Data Science: [Enlace](https://colab.research.google.com/?utm_source=scs-index#scrollTo=UdRyKR44dcNI)\n",
        "\n",
        "Machine Learning: [Enlace](https://colab.research.google.com/?utm_source=scs-index#scrollTo=OwuxHmxllTwN)"
      ],
      "metadata": {
        "id": "_3RKCNFwwSG_"
      }
    },
    {
      "cell_type": "markdown",
      "source": [
        "# Borrador\n",
        "[Borrador](https://colab.research.google.com/github/Arester18/Python_learn/blob/main/Borrador.ipynb)"
      ],
      "metadata": {
        "id": "8SNVD_8YwFlq"
      }
    }
  ]
}