{
  "nbformat": 4,
  "nbformat_minor": 0,
  "metadata": {
    "colab": {
      "provenance": [],
      "include_colab_link": true
    },
    "kernelspec": {
      "name": "python3",
      "display_name": "Python 3"
    },
    "language_info": {
      "name": "python"
    }
  },
  "cells": [
    {
      "cell_type": "markdown",
      "metadata": {
        "id": "view-in-github",
        "colab_type": "text"
      },
      "source": [
        "<a href=\"https://colab.research.google.com/github/Arester18/Python_learn/blob/main/%C2%BFQu%C3%A9_es_python%3F.ipynb\" target=\"_parent\"><img src=\"https://colab.research.google.com/assets/colab-badge.svg\" alt=\"Open In Colab\"/></a>"
      ]
    },
    {
      "cell_type": "markdown",
      "source": [
        "#¿Qué es python?"
      ],
      "metadata": {
        "id": "VCd28CPuA72n"
      }
    },
    {
      "cell_type": "markdown",
      "source": [
        "Se mostrarán los comandos que se pueden hacer en el cmd"
      ],
      "metadata": {
        "id": "6QoswagPA_lB"
      }
    },
    {
      "cell_type": "code",
      "execution_count": null,
      "metadata": {
        "id": "0apQy3al_CFy"
      },
      "outputs": [],
      "source": [
        "python --version\n",
        "python #-> exit()"
      ]
    }
  ]
}