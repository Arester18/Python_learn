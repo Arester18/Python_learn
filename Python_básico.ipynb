{
  "nbformat": 4,
  "nbformat_minor": 0,
  "metadata": {
    "colab": {
      "provenance": [],
      "include_colab_link": true
    },
    "kernelspec": {
      "name": "python3",
      "display_name": "Python 3"
    },
    "language_info": {
      "name": "python"
    }
  },
  "cells": [
    {
      "cell_type": "markdown",
      "metadata": {
        "id": "view-in-github",
        "colab_type": "text"
      },
      "source": [
        "<a href=\"https://colab.research.google.com/github/Arester18/Python_learn/blob/main/Python_b%C3%A1sico.ipynb\" target=\"_parent\"><img src=\"https://colab.research.google.com/assets/colab-badge.svg\" alt=\"Open In Colab\"/></a>"
      ]
    },
    {
      "cell_type": "markdown",
      "source": [
        "# Python básico\n",
        "Curso: [Enlace](https://www.youtube.com/watch?v=tQZy0U8s9LY)\n"
      ],
      "metadata": {
        "id": "4gd-MeDK97GJ"
      }
    },
    {
      "cell_type": "code",
      "execution_count": null,
      "metadata": {
        "id": "3_lHNilsU50T"
      },
      "outputs": [],
      "source": [
        "Sintaxis básica: variables, tipos de datos, operadores, estructuras de control (condicionales y bucles).\n",
        "Funciones y estructuras de datos: listas, tuplas, diccionarios y conjuntos.\n",
        "Entrada y salida de datos: lectura y escritura de archivos, entrada de usuario.\n",
        "Manejo de errores y excepciones.\n",
        "Módulos y bibliotecas estándar: uso de módulos predefinidos y cómo importarlos.\n",
        "Programación orientada a objetos: clases, objetos, métodos y atributos.\n",
        "Manipulación de cadenas de texto.\n",
        "Manipulación de fechas y horas básicas."
      ]
    },
    {
      "cell_type": "markdown",
      "source": [
        "Implementaciones\n",
        "+ cPython -> C\n",
        "+ Pypy\n",
        "+ Jython -> Java\n",
        "+ IronPython -> C#\n",
        "+ Brython -> Explorador web\n",
        "\n",
        "Codigo ->Java ->Compilador ->ByteCode ->JVM (Java Virtual Machine) ->Lenguaje de máquina"
      ],
      "metadata": {
        "id": "cHU8o54rHZ5t"
      }
    },
    {
      "cell_type": "code",
      "source": [
        "#TIPOS DE DATOS\n",
        "\n",
        "\n",
        "\n",
        "\n",
        "\n",
        "\n",
        "\n",
        "\n",
        "\n"
      ],
      "metadata": {
        "id": "vYKxMRe0DC3r"
      },
      "execution_count": null,
      "outputs": []
    },
    {
      "cell_type": "code",
      "source": [
        "#ESTRUCTURAS\n",
        "listas = [] #print(listas[1:12:3])\n",
        "tupla = (1,5,7,12)\n",
        "set_ = {}\n",
        "matriz = [[],[]]\n",
        "diccionarios = {\"valor\": 34}\n",
        "\n",
        "\n",
        "#FUNCIONES\n",
        "lista.insert()\n",
        "lista.append()\n",
        "lista.remove()\n",
        "lista.pop()\n",
        "lista.sort()  #sorted(lista)\n",
        "\n",
        "\n",
        "primer = {1,1,2,3,4,5,6,6}\n",
        "segundo = set([3,4,5])\n",
        "print(primer | segundo) #union\n",
        "print(primer & segundo) #intersección\n",
        "print(primer - segundo) #diferencia\n",
        "print(primer ^ segundo) #diferencia simétrica\n",
        "\n",
        "\n",
        "punto = {\"valor\": 34,\n",
        "         \"numero\": 56,}\n",
        "punto[\"nuvo\"] = 45\n",
        "print(punto[\"valor\"])\n",
        "print(punto.get(\"valor\"))\n",
        "print(punto.get(\"ok\", null))\n",
        "del punto[\"x\"]\n",
        "del(punto[\"y\"])\n",
        "print(punto)\n",
        "\n",
        "\n",
        "\n",
        "\n",
        "\n",
        "\n",
        "\n",
        "\n",
        "\n"
      ],
      "metadata": {
        "id": "48_6SGai5UHa"
      },
      "execution_count": null,
      "outputs": []
    },
    {
      "cell_type": "code",
      "source": [
        "#FUNCIONES\n",
        "def suma(*numeros): #el arterico indica que se tomarán mas de un valor\n",
        "  print(a + b + c)\n",
        "suma(2,5,7)\n",
        "\n",
        "def get_product(**datos):\n",
        "  print(datos)\n",
        "\n",
        "get_product(id = \"id\")\n",
        "\n",
        "\n",
        "\n",
        "\n",
        "\n",
        "\n",
        "\n",
        "\n",
        "\n"
      ],
      "metadata": {
        "id": "vy1BIKIs5W0b"
      },
      "execution_count": null,
      "outputs": []
    },
    {
      "cell_type": "code",
      "source": [
        "#LAMBDA\n",
        "usuarios = [[\"chanchito\", 4], [\"Felipe\", 1], [\"Pulga\", 5]]\n",
        "usuarios.sort(key = lambda el: el[1] , reverse = True)\n",
        "print(usuarios)\n",
        "\n",
        "\n",
        "\n",
        "\n",
        "\n",
        "\n",
        "\n",
        "\n",
        "\n"
      ],
      "metadata": {
        "id": "kA4YdNYVtzei"
      },
      "execution_count": null,
      "outputs": []
    },
    {
      "cell_type": "code",
      "source": [
        "#LECTURA Y ESCRITURA DE ARCHIVOS\n",
        "ruta = \"\"\n",
        "archivo = open(ruta, \"r\")\n",
        "print(archivo.read())\n",
        "print(archivo.readline())\n",
        "print(archivo.readlines())\n",
        "archivo.close()\n",
        "\n",
        "contenido = \"a, b, c, d\"\n",
        "nueva_ruta = \"\"\n",
        "archivo = open(nueva_ruta, \"r+\")\n",
        "archivo.write(contenido)\n",
        "archivo.seek(0)                   #coloca el cursor al inicio\n",
        "print(archivo.read())\n",
        "for linea in arhivo.readlines():\n",
        "  print(linea)\n",
        "\n",
        "\n",
        "\n",
        "\n",
        "\n",
        "\n",
        "\n",
        "\n",
        "\n"
      ],
      "metadata": {
        "id": "f5-8ud5hCXDV"
      },
      "execution_count": null,
      "outputs": []
    },
    {
      "cell_type": "code",
      "source": [
        "#LECTURA DE ARCHIVOS CSV\n",
        "import pandas as pd\n",
        "\n",
        "datos = pd.read_csv(\"archivo.csv\", header = 0)\n",
        "print(datos)\n",
        "print(datos.ix[0:3])\n",
        "print(datos.sort_values(by = \"Telefono\", ascending = False))\n",
        "print(datos[datos.ix[:,5]<10])\n",
        "\n",
        "\n",
        "\n",
        "\n",
        "\n",
        "\n",
        "\n",
        "\n",
        "\n",
        "\n"
      ],
      "metadata": {
        "id": "Q2IKlnU8H8JP"
      },
      "execution_count": null,
      "outputs": []
    },
    {
      "cell_type": "code",
      "source": [
        "from shutil import copyfile\n",
        "\n",
        "copyfile(\"ruta\", \"ruta2\")    #copia parte de ruta en ruta2\n",
        "\n",
        "def establecer_archivo(ruta, permiso):\n",
        "  archivo = open(ruta, permiso)\n",
        "  return archivo\n",
        "\n",
        "def leer_archivo(archivo):\n",
        "  contenido = archivo.read()\n",
        "  return contenido\n",
        "\n",
        "def escribir_archivo(archivo, texto):\n",
        "  archivo.write(texto)\n",
        "\n",
        "\n",
        "\n",
        "\n",
        "\n",
        "\n",
        "\n",
        "\n",
        "\n"
      ],
      "metadata": {
        "id": "9A8ZLp6EEv0c"
      },
      "execution_count": null,
      "outputs": []
    },
    {
      "cell_type": "markdown",
      "source": [
        "# Miniproyectos"
      ],
      "metadata": {
        "id": "VL-cVUb-6ZQa"
      }
    },
    {
      "cell_type": "code",
      "source": [
        "#Ordena el siguiente diccionario por los números usando y no usando lambda, usando funciones\n",
        "usuarios = [[\"chanchito\", 4], [\"Felipe\", 1], [\"Pulga\", 5]]"
      ],
      "metadata": {
        "id": "abEW9x4W6Y4t"
      },
      "execution_count": null,
      "outputs": []
    },
    {
      "cell_type": "code",
      "source": [
        "#Obtén los nombres de la siguiente matriz utilizando de 3 formas for, usando lambda y filter\n",
        "usuarios = [\n",
        "    [\"Chanchito\", 4],\n",
        "    [\"Felipe\", 1],\n",
        "    [\"Pulga\", 5],\n",
        "]"
      ],
      "metadata": {
        "id": "0KKVDO0C7YDm"
      },
      "execution_count": null,
      "outputs": []
    },
    {
      "cell_type": "code",
      "source": [
        "#convierte una lista en tupla y separa el primer y segundo valor del resto en variables\n",
        "lista=[1,2,3,4,5,6]"
      ],
      "metadata": {
        "id": "2OHI1OwC8NMO"
      },
      "execution_count": null,
      "outputs": []
    },
    {
      "cell_type": "markdown",
      "source": [
        "# Solución"
      ],
      "metadata": {
        "id": "Wp3gSJGQ7BYI"
      }
    },
    {
      "cell_type": "code",
      "source": [
        "#Ordena el siguiente diccionario por los números usando y no usando lambda, usando funciones\n",
        "usuarios = [[\"chanchito\", 4], [\"Felipe\", 1], [\"Pulga\", 5]]\n",
        "def ordena(elemento):\n",
        "  return elemento[1]\n",
        "usuarios.sort(key = ordena, reverse = True)\n",
        "print(usuarios)"
      ],
      "metadata": {
        "id": "eYsroygB7Amw"
      },
      "execution_count": null,
      "outputs": []
    },
    {
      "cell_type": "code",
      "source": [
        "#Obtén los nombres de la siguiente matriz utilizando de 3 formas for, usando lambda y filter\n",
        "nombre = []\n",
        "for usuario in usuarios:\n",
        "  nombre.append(usuario[0])\n",
        "print(nombre)\n",
        "\n",
        "nombres = [usuario[0] for usuario in usuarios]\n",
        "nombres = [usuario for usuario in usuarios if usuario[1]>2]\n",
        "print(nombres)\n",
        "\n",
        "nombres = list(map[lamba usuario: usuario[0], usuarios])\n",
        "print(nombres)\n",
        "\n",
        "menosusuarios = list(filter[lamba usuario: usuario[1]>2, usuarios])\n",
        "print(menosusuarios)"
      ],
      "metadata": {
        "id": "rsItbqA07ei7"
      },
      "execution_count": null,
      "outputs": []
    },
    {
      "cell_type": "code",
      "source": [
        "#convierte una lista en tupla y separa el primer y segundo valor del resto en variables\n",
        "tupla = tuple([1,2,3,4,5,6])\n",
        "primero, segundo, *otros = tupla"
      ],
      "metadata": {
        "id": "aVqpOBOs8SQO"
      },
      "execution_count": null,
      "outputs": []
    }
  ]
}